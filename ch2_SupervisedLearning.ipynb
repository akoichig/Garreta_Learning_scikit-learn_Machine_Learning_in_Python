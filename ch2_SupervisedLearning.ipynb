{
 "cells": [
  {
   "cell_type": "markdown",
   "metadata": {},
   "source": [
    "#  Supervised Learning"
   ]
  },
  {
   "cell_type": "markdown",
   "metadata": {},
   "source": [
    "## Image recognition with Support Vector Machines"
   ]
  },
  {
   "cell_type": "code",
   "execution_count": 1,
   "metadata": {
    "collapsed": false
   },
   "outputs": [
    {
     "name": "stdout",
     "output_type": "stream",
     "text": [
      "Modified Olivetti faces dataset.\n",
      "\n",
      "The original database was available from (now defunct)\n",
      "\n",
      "    http://www.uk.research.att.com/facedatabase.html\n",
      "\n",
      "The version retrieved here comes in MATLAB format from the personal\n",
      "web page of Sam Roweis:\n",
      "\n",
      "    http://www.cs.nyu.edu/~roweis/\n",
      "\n",
      "There are ten different images of each of 40 distinct subjects. For some\n",
      "subjects, the images were taken at different times, varying the lighting,\n",
      "facial expressions (open / closed eyes, smiling / not smiling) and facial\n",
      "details (glasses / no glasses). All the images were taken against a dark\n",
      "homogeneous background with the subjects in an upright, frontal position (with\n",
      "tolerance for some side movement).\n",
      "\n",
      "The original dataset consisted of 92 x 112, while the Roweis version\n",
      "consists of 64x64 images.\n",
      "\n"
     ]
    }
   ],
   "source": [
    "import sklearn as sk\n",
    "import numpy as np\n",
    "import matplotlib.pyplot as plt\n",
    "%matplotlib inline\n",
    "from sklearn.datasets import fetch_olivetti_faces\n",
    "faces = fetch_olivetti_faces()\n",
    "print faces.DESCR"
   ]
  },
  {
   "cell_type": "code",
   "execution_count": 3,
   "metadata": {
    "collapsed": false
   },
   "outputs": [
    {
     "name": "stdout",
     "output_type": "stream",
     "text": [
      "['images', 'data', 'target', 'DESCR']\n"
     ]
    }
   ],
   "source": [
    "print faces.keys()"
   ]
  },
  {
   "cell_type": "code",
   "execution_count": 4,
   "metadata": {
    "collapsed": false
   },
   "outputs": [
    {
     "name": "stdout",
     "output_type": "stream",
     "text": [
      "(400, 64, 64)\n"
     ]
    }
   ],
   "source": [
    "print faces.images.shape"
   ]
  },
  {
   "cell_type": "code",
   "execution_count": 5,
   "metadata": {
    "collapsed": false
   },
   "outputs": [
    {
     "name": "stdout",
     "output_type": "stream",
     "text": [
      "(400, 4096)\n"
     ]
    }
   ],
   "source": [
    "print faces.data.shape"
   ]
  },
  {
   "cell_type": "code",
   "execution_count": 6,
   "metadata": {
    "collapsed": false
   },
   "outputs": [
    {
     "name": "stdout",
     "output_type": "stream",
     "text": [
      "(400,)\n"
     ]
    }
   ],
   "source": [
    "print faces.target.shape"
   ]
  },
  {
   "cell_type": "code",
   "execution_count": 7,
   "metadata": {
    "collapsed": false
   },
   "outputs": [
    {
     "name": "stdout",
     "output_type": "stream",
     "text": [
      "1.0\n"
     ]
    }
   ],
   "source": [
    "print np.max(faces.data)"
   ]
  },
  {
   "cell_type": "code",
   "execution_count": 8,
   "metadata": {
    "collapsed": false
   },
   "outputs": [
    {
     "name": "stdout",
     "output_type": "stream",
     "text": [
      "0.0\n"
     ]
    }
   ],
   "source": [
    "print np.min(faces.data)"
   ]
  },
  {
   "cell_type": "code",
   "execution_count": 9,
   "metadata": {
    "collapsed": false
   },
   "outputs": [
    {
     "name": "stdout",
     "output_type": "stream",
     "text": [
      "0.547043\n"
     ]
    }
   ],
   "source": [
    "print np.mean(faces.data)"
   ]
  },
  {
   "cell_type": "code",
   "execution_count": 10,
   "metadata": {
    "collapsed": true
   },
   "outputs": [],
   "source": [
    "# Data does not normalizing\n",
    "def print_faces(images, target, top_n):\n",
    "    # set up the figure size in inches\n",
    "    fig = plt.figure(figsize=(12, 12))\n",
    "    fig.subplots_adjust(left = 0, right = 1, bottom = 0, top = 1,\n",
    "                        hspace = 0.05, wspace = 0.05)\n",
    "    for i in range(top_n):\n",
    "        # plot the images in a matrix of 20x20\n",
    "        p = fig.add_subplot(20, 20, i+1, xticks=[], yticks=[])\n",
    "        p.imshow(images[i], cmap=plt.cm.bone)\n",
    "        \n",
    "        # label the image with the target value\n",
    "        p.text(0, 14, str(target[i]))\n",
    "        p.text(0, 60, str(i))"
   ]
  },
  {
   "cell_type": "code",
   "execution_count": 13,
   "metadata": {
    "collapsed": false
   },
   "outputs": [
    {
     "data": {
      "image/png": "[encoded data removed]",
      "text/plain": [
       "<matplotlib.figure.Figure at 0x7f6922103a10>"
      ]
     },
     "metadata": {},
     "output_type": "display_data"
    }
   ],
   "source": [
    "print_faces(faces.images, faces.target, 20)"
   ]
  },
  {
   "cell_type": "markdown",
   "metadata": {},
   "source": [
    "## Training a Support Vector Machine"
   ]
  },
  {
   "cell_type": "code",
   "execution_count": 2,
   "metadata": {
    "collapsed": true
   },
   "outputs": [],
   "source": [
    "from sklearn.svm import SVC"
   ]
  },
  {
   "cell_type": "code",
   "execution_count": 15,
   "metadata": {
    "collapsed": true
   },
   "outputs": [],
   "source": [
    "svc_1 = SVC(kernel='linear') # default kernel is rbf kernel used to model nonlinear problems\n"
   ]
  },
  {
   "cell_type": "code",
   "execution_count": 3,
   "metadata": {
    "collapsed": true
   },
   "outputs": [],
   "source": [
    "from sklearn.cross_validation import train_test_split"
   ]
  },
  {
   "cell_type": "code",
   "execution_count": 17,
   "metadata": {
    "collapsed": true
   },
   "outputs": [],
   "source": [
    "X_train, X_test, y_train, y_test = train_test_split(faces.data, \n",
    "                                                   faces.target, test_size=0.25, random_state=0)"
   ]
  },
  {
   "cell_type": "code",
   "execution_count": 4,
   "metadata": {
    "collapsed": false
   },
   "outputs": [],
   "source": [
    "from sklearn.cross_validation import cross_val_score, KFold\n",
    "from scipy.stats import sem\n",
    "\n",
    "def evaluate_cross_validation(clf, X, y, K):\n",
    "    # create a k-fold cross validation iterator\n",
    "    cv = KFold(len(y), K, shuffle=True, random_state=0)\n",
    "    # by default the score used is the one returned by score method of the estimator (accuracy)\n",
    "    scores = cross_val_score(clf, X, y, cv=cv)\n",
    "    print scores\n",
    "    print(\"Mean score: {0:.3f} (+/-{1:.3f}\").format(np.mean(scores), sem(scores))"
   ]
  },
  {
   "cell_type": "code",
   "execution_count": 24,
   "metadata": {
    "collapsed": false
   },
   "outputs": [
    {
     "name": "stdout",
     "output_type": "stream",
     "text": [
      "[ 0.93333333  0.86666667  0.91666667  0.93333333  0.91666667]\n",
      "Mean score: 0.913 (+/-0.012\n"
     ]
    }
   ],
   "source": [
    "evaluate_cross_validation(svc_1, X_train, y_train, 5)"
   ]
  },
  {
   "cell_type": "code",
   "execution_count": 5,
   "metadata": {
    "collapsed": true
   },
   "outputs": [],
   "source": [
    "from sklearn import metrics\n",
    "\n",
    "def train_and_evaluate(clf, X_train, X_test, y_train, y_test):\n",
    "\n",
    "    clf.fit(X_train, y_train)\n",
    "    \n",
    "    print \"Accuracy on training set:\"\n",
    "    print clf.score(X_train, y_train)\n",
    "    print \"Accuracy on testing set:\"\n",
    "    print clf.score(X_test, y_test)\n",
    "    \n",
    "    y_pred = clf.predict(X_test)\n",
    "    \n",
    "    print \"Classification Report:\"\n",
    "    print metrics.classification_report(y_test, y_pred)\n",
    "    print \"Confusion Matrix:\"\n",
    "    print metrics.confusion_matrix(y_test, y_pred)"
   ]
  },
  {
   "cell_type": "code",
   "execution_count": 30,
   "metadata": {
    "collapsed": false
   },
   "outputs": [
    {
     "name": "stdout",
     "output_type": "stream",
     "text": [
      "Accuracy on training set:\n",
      "1.0\n",
      "Accuracy on testing set:\n",
      "0.99\n",
      "Classification Report:\n",
      "             precision    recall  f1-score   support\n",
      "\n",
      "          0       0.86      1.00      0.92         6\n",
      "          1       1.00      1.00      1.00         4\n",
      "          2       1.00      1.00      1.00         2\n",
      "          3       1.00      1.00      1.00         1\n",
      "          4       1.00      1.00      1.00         1\n",
      "          5       1.00      1.00      1.00         5\n",
      "          6       1.00      1.00      1.00         4\n",
      "          7       1.00      0.67      0.80         3\n",
      "          9       1.00      1.00      1.00         1\n",
      "         10       1.00      1.00      1.00         4\n",
      "         11       1.00      1.00      1.00         1\n",
      "         12       1.00      1.00      1.00         2\n",
      "         13       1.00      1.00      1.00         3\n",
      "         14       1.00      1.00      1.00         5\n",
      "         15       1.00      1.00      1.00         3\n",
      "         17       1.00      1.00      1.00         6\n",
      "         19       1.00      1.00      1.00         4\n",
      "         20       1.00      1.00      1.00         1\n",
      "         21       1.00      1.00      1.00         1\n",
      "         22       1.00      1.00      1.00         2\n",
      "         23       1.00      1.00      1.00         1\n",
      "         24       1.00      1.00      1.00         2\n",
      "         25       1.00      1.00      1.00         2\n",
      "         26       1.00      1.00      1.00         4\n",
      "         27       1.00      1.00      1.00         1\n",
      "         28       1.00      1.00      1.00         2\n",
      "         29       1.00      1.00      1.00         3\n",
      "         30       1.00      1.00      1.00         4\n",
      "         31       1.00      1.00      1.00         3\n",
      "         32       1.00      1.00      1.00         3\n",
      "         33       1.00      1.00      1.00         2\n",
      "         34       1.00      1.00      1.00         3\n",
      "         35       1.00      1.00      1.00         1\n",
      "         36       1.00      1.00      1.00         3\n",
      "         37       1.00      1.00      1.00         3\n",
      "         38       1.00      1.00      1.00         1\n",
      "         39       1.00      1.00      1.00         3\n",
      "\n",
      "avg / total       0.99      0.99      0.99       100\n",
      "\n",
      "Confusion Matrix:\n",
      "[[6 0 0 ..., 0 0 0]\n",
      " [0 4 0 ..., 0 0 0]\n",
      " [0 0 2 ..., 0 0 0]\n",
      " ..., \n",
      " [0 0 0 ..., 3 0 0]\n",
      " [0 0 0 ..., 0 1 0]\n",
      " [0 0 0 ..., 0 0 3]]\n"
     ]
    }
   ],
   "source": [
    "train_and_evaluate(svc_1, X_train, X_test, y_train, y_test)"
   ]
  },
  {
   "cell_type": "code",
   "execution_count": 31,
   "metadata": {
    "collapsed": true
   },
   "outputs": [],
   "source": [
    "# Try classifying faces as people with and without glasses\n",
    "# the index ranges of images of people with glasses\n",
    "glasses = [\n",
    "    (10, 19), (30, 32), (37, 38), (50, 59), (63, 64),\n",
    "    (69, 69), (120, 121), (124, 129), (130, 139), (160, 161),\n",
    "    (164, 169), (180, 182), (185, 185), (189, 189), (190, 192),\n",
    "    (194, 194), (196, 199), (260, 269), (270, 279), (300, 309),\n",
    "    (330, 339), (358, 359), (360, 369)]\n"
   ]
  },
  {
   "cell_type": "code",
   "execution_count": 33,
   "metadata": {
    "collapsed": false
   },
   "outputs": [],
   "source": [
    "def create_target(segments):\n",
    "    # create a new y array of target size initialized with zeros\n",
    "    y = np.zeros(faces.target.shape[0])\n",
    "    # put 1 in teh specified segments\n",
    "    for (start, end) in segments:\n",
    "        y[start:end+1] = 1\n",
    "    return y\n",
    "target_glasses = create_target(glasses)"
   ]
  },
  {
   "cell_type": "code",
   "execution_count": 34,
   "metadata": {
    "collapsed": true
   },
   "outputs": [],
   "source": [
    "X_train, X_test, y_train, y_test = train_test_split(faces.data, target_glasses,\n",
    "                                                   test_size=0.25, random_state=0)"
   ]
  },
  {
   "cell_type": "code",
   "execution_count": 35,
   "metadata": {
    "collapsed": true
   },
   "outputs": [],
   "source": [
    "svc_2 = SVC(kernel='linear')"
   ]
  },
  {
   "cell_type": "code",
   "execution_count": 36,
   "metadata": {
    "collapsed": false
   },
   "outputs": [
    {
     "name": "stdout",
     "output_type": "stream",
     "text": [
      "[ 1.          0.95        0.98333333  0.98333333  0.93333333]\n",
      "Mean score: 0.970 (+/-0.012\n"
     ]
    }
   ],
   "source": [
    "evaluate_cross_validation(svc_2, X_train, y_train, 5)"
   ]
  },
  {
   "cell_type": "code",
   "execution_count": 37,
   "metadata": {
    "collapsed": false
   },
   "outputs": [
    {
     "name": "stdout",
     "output_type": "stream",
     "text": [
      "Accuracy on training set:\n",
      "1.0\n",
      "Accuracy on testing set:\n",
      "0.99\n",
      "Classification Report:\n",
      "             precision    recall  f1-score   support\n",
      "\n",
      "        0.0       1.00      0.99      0.99        67\n",
      "        1.0       0.97      1.00      0.99        33\n",
      "\n",
      "avg / total       0.99      0.99      0.99       100\n",
      "\n",
      "Confusion Matrix:\n",
      "[[66  1]\n",
      " [ 0 33]]\n"
     ]
    }
   ],
   "source": [
    "train_and_evaluate(svc_2, X_train, X_test, y_train, y_test)"
   ]
  },
  {
   "cell_type": "code",
   "execution_count": 39,
   "metadata": {
    "collapsed": false
   },
   "outputs": [
    {
     "name": "stdout",
     "output_type": "stream",
     "text": [
      "10\n"
     ]
    }
   ],
   "source": [
    "X_test = faces.data[30:40]\n",
    "y_test = target_glasses[30:40]\n",
    "print y_test.shape[0]"
   ]
  },
  {
   "cell_type": "code",
   "execution_count": 40,
   "metadata": {
    "collapsed": false
   },
   "outputs": [
    {
     "name": "stdout",
     "output_type": "stream",
     "text": [
      "390\n"
     ]
    }
   ],
   "source": [
    "select = np.ones(target_glasses.shape[0])\n",
    "select[30:40] = 0\n",
    "X_train = faces.data[select == 1]\n",
    "y_train = target_glasses[select == 1]\n",
    "print y_train.shape[0]"
   ]
  },
  {
   "cell_type": "code",
   "execution_count": 45,
   "metadata": {
    "collapsed": false
   },
   "outputs": [
    {
     "name": "stdout",
     "output_type": "stream",
     "text": [
      "Accuracy on training set:\n",
      "1.0\n",
      "Accuracy on testing set:\n",
      "0.9\n",
      "Classification Report:\n",
      "             precision    recall  f1-score   support\n",
      "\n",
      "        0.0       0.83      1.00      0.91         5\n",
      "        1.0       1.00      0.80      0.89         5\n",
      "\n",
      "avg / total       0.92      0.90      0.90        10\n",
      "\n",
      "Confusion Matrix:\n",
      "[[5 0]\n",
      " [1 4]]\n"
     ]
    }
   ],
   "source": [
    "svc_3 = SVC(kernel='linear')\n",
    "train_and_evaluate(svc_3, X_train, X_test, y_train, y_test)"
   ]
  },
  {
   "cell_type": "code",
   "execution_count": 47,
   "metadata": {
    "collapsed": false
   },
   "outputs": [],
   "source": [
    "# Check the single error above\n",
    "y_pred = svc_3.predict(X_test)\n",
    "eval_faces = [np.reshape(a, (64, 64)) for a in X_test]"
   ]
  },
  {
   "cell_type": "code",
   "execution_count": 48,
   "metadata": {
    "collapsed": false
   },
   "outputs": [
    {
     "data": {
      "image/png": "[encoded data removed]",
      "text/plain": [
       "<matplotlib.figure.Figure at 0x7f6921e59690>"
      ]
     },
     "metadata": {},
     "output_type": "display_data"
    }
   ],
   "source": [
    "print_faces(eval_faces, y_pred, 10)"
   ]
  },
  {
   "cell_type": "markdown",
   "metadata": {},
   "source": [
    "## Text Classification with Naive Bayes"
   ]
  },
  {
   "cell_type": "code",
   "execution_count": 6,
   "metadata": {
    "collapsed": false
   },
   "outputs": [
    {
     "name": "stdout",
     "output_type": "stream",
     "text": [
      "Populating the interactive namespace from numpy and matplotlib\n"
     ]
    }
   ],
   "source": [
    "%pylab inline"
   ]
  },
  {
   "cell_type": "code",
   "execution_count": 7,
   "metadata": {
    "collapsed": false
   },
   "outputs": [
    {
     "name": "stderr",
     "output_type": "stream",
     "text": [
      "No handlers could be found for logger \"sklearn.datasets.twenty_newsgroups\"\n"
     ]
    }
   ],
   "source": [
    "from sklearn.datasets import fetch_20newsgroups\n",
    "news = fetch_20newsgroups(subset='all')"
   ]
  },
  {
   "cell_type": "code",
   "execution_count": 8,
   "metadata": {
    "collapsed": false
   },
   "outputs": [
    {
     "data": {
      "text/plain": [
       "['description', 'DESCR', 'filenames', 'target_names', 'data', 'target']"
      ]
     },
     "execution_count": 8,
     "metadata": {},
     "output_type": "execute_result"
    }
   ],
   "source": [
    "news.keys()"
   ]
  },
  {
   "cell_type": "code",
   "execution_count": 13,
   "metadata": {
    "collapsed": false
   },
   "outputs": [
    {
     "data": {
      "text/plain": [
       "'the 20 newsgroups by date dataset'"
      ]
     },
     "execution_count": 13,
     "metadata": {},
     "output_type": "execute_result"
    }
   ],
   "source": [
    "news.description"
   ]
  },
  {
   "cell_type": "code",
   "execution_count": 14,
   "metadata": {
    "collapsed": false
   },
   "outputs": [
    {
     "name": "stdout",
     "output_type": "stream",
     "text": [
      "<type 'list'> <type 'numpy.ndarray'> <type 'list'>\n"
     ]
    }
   ],
   "source": [
    "print type(news.data), type(news.target), type(news.target_names)"
   ]
  },
  {
   "cell_type": "code",
   "execution_count": 15,
   "metadata": {
    "collapsed": false
   },
   "outputs": [
    {
     "name": "stdout",
     "output_type": "stream",
     "text": [
      "['alt.atheism', 'comp.graphics', 'comp.os.ms-windows.misc', 'comp.sys.ibm.pc.hardware', 'comp.sys.mac.hardware', 'comp.windows.x', 'misc.forsale', 'rec.autos', 'rec.motorcycles', 'rec.sport.baseball', 'rec.sport.hockey', 'sci.crypt', 'sci.electronics', 'sci.med', 'sci.space', 'soc.religion.christian', 'talk.politics.guns', 'talk.politics.mideast', 'talk.politics.misc', 'talk.religion.misc']\n"
     ]
    }
   ],
   "source": [
    "print news.target_names"
   ]
  },
  {
   "cell_type": "code",
   "execution_count": 16,
   "metadata": {
    "collapsed": false
   },
   "outputs": [
    {
     "name": "stdout",
     "output_type": "stream",
     "text": [
      "18846\n"
     ]
    }
   ],
   "source": [
    "print len(news.data)"
   ]
  },
  {
   "cell_type": "code",
   "execution_count": 17,
   "metadata": {
    "collapsed": false
   },
   "outputs": [
    {
     "name": "stdout",
     "output_type": "stream",
     "text": [
      "18846\n"
     ]
    }
   ],
   "source": [
    "print len(news.target)"
   ]
  },
  {
   "cell_type": "code",
   "execution_count": 18,
   "metadata": {
    "collapsed": false
   },
   "outputs": [
    {
     "name": "stdout",
     "output_type": "stream",
     "text": [
      "From: Mamatha Devineni Ratnam <mr47+@andrew.cmu.edu>\n",
      "Subject: Pens fans reactions\n",
      "Organization: Post Office, Carnegie Mellon, Pittsburgh, PA\n",
      "Lines: 12\n",
      "NNTP-Posting-Host: po4.andrew.cmu.edu\n",
      "\n",
      "\n",
      "\n",
      "I am sure some bashers of Pens fans are pretty confused about the lack\n",
      "of any kind of posts about the recent Pens massacre of the Devils. Actually,\n",
      "I am  bit puzzled too and a bit relieved. However, I am going to put an end\n",
      "to non-PIttsburghers' relief with a bit of praise for the Pens. Man, they\n",
      "are killing those Devils worse than I thought. Jagr just showed you why\n",
      "he is much better than his regular season stats. He is also a lot\n",
      "fo fun to watch in the playoffs. Bowman should let JAgr have a lot of\n",
      "fun in the next couple of games since the Pens are going to beat the pulp out of Jersey anyway. I was very disappointed not to see the Islanders lose the final\n",
      "regular season game.          PENS RULE!!!\n",
      "\n",
      "\n"
     ]
    }
   ],
   "source": [
    "print news.data[0]"
   ]
  },
  {
   "cell_type": "code",
   "execution_count": 19,
   "metadata": {
    "collapsed": false
   },
   "outputs": [
    {
     "name": "stdout",
     "output_type": "stream",
     "text": [
      "10 rec.sport.hockey\n"
     ]
    }
   ],
   "source": [
    "print news.target[0], news.target_names[news.target[0]]"
   ]
  },
  {
   "cell_type": "markdown",
   "metadata": {},
   "source": [
    "### Preprocessing the data"
   ]
  },
  {
   "cell_type": "code",
   "execution_count": 20,
   "metadata": {
    "collapsed": true
   },
   "outputs": [],
   "source": [
    "SPLIT_PERC = 0.75\n",
    "split_size = int(len(news.data)*SPLIT_PERC)\n",
    "X_train = news.data[:split_size]\n",
    "X_test = news.data[split_size:]\n",
    "y_train = news.target[:split_size]\n",
    "y_test = news.target[split_size:]"
   ]
  },
  {
   "cell_type": "markdown",
   "metadata": {},
   "source": [
    "### Training a Naive Bayes classifier"
   ]
  },
  {
   "cell_type": "code",
   "execution_count": 22,
   "metadata": {
    "collapsed": false
   },
   "outputs": [],
   "source": [
    "from sklearn.naive_bayes import MultinomialNB\n",
    "from sklearn.pipeline import Pipeline\n",
    "from sklearn.feature_extraction.text import TfidfVectorizer, HashingVectorizer, CountVectorizer\n",
    "\n",
    "clf_1 = Pipeline([('vect', CountVectorizer()),\n",
    "                 ('clf', MultinomialNB()),])\n",
    "clf_2 = Pipeline([('vect', HashingVectorizer(non_negative=True)),\n",
    "                 ('clf', MultinomialNB()),])\n",
    "clf_3 = Pipeline([('vect', TfidfVectorizer()),\n",
    "                 ('clf', MultinomialNB()),])"
   ]
  },
  {
   "cell_type": "code",
   "execution_count": 24,
   "metadata": {
    "collapsed": false
   },
   "outputs": [],
   "source": [
    "from sklearn.cross_validation import cross_val_score, KFold\n",
    "from scipy.stats import sem\n",
    "def evaluate_cross_validation(clf, X, y, K):\n",
    "    # create a k-fold cross validation iterator of k=5 folds\n",
    "    cv = KFold(len(y), K, shuffle=True, random_state=0)\n",
    "    # by default the score used is the one returned by score method of the estimator (accuracy)\n",
    "    scores = cross_val_score(clf, X, y, cv=cv)\n",
    "    print scores\n",
    "    print (\"Mean score: {0:.3f} (+/-{1:.3f})\").format(np.mean(scores), sem(scores))"
   ]
  },
  {
   "cell_type": "code",
   "execution_count": 25,
   "metadata": {
    "collapsed": false
   },
   "outputs": [
    {
     "name": "stdout",
     "output_type": "stream",
     "text": [
      "[ 0.85782493  0.85725657  0.84664367  0.85911382  0.8458477 ]\n",
      "Mean score: 0.853 (+/-0.003)\n",
      "[ 0.75543767  0.77659857  0.77049615  0.78508888  0.76200584]\n",
      "Mean score: 0.770 (+/-0.005)\n",
      "[ 0.84482759  0.85990979  0.84558238  0.85990979  0.84213319]\n",
      "Mean score: 0.850 (+/-0.004)\n"
     ]
    }
   ],
   "source": [
    "clfs = [clf_1, clf_2, clf_3]\n",
    "for clf in clfs:\n",
    "    evaluate_cross_validation(clf, news.data, news.target, 5)"
   ]
  },
  {
   "cell_type": "code",
   "execution_count": 32,
   "metadata": {
    "collapsed": true
   },
   "outputs": [],
   "source": [
    "# CountVectorizer and TfidfVectorizer performed similarly and better than HashingVectorizer\n",
    "# Improving TfidfVectorizer\n",
    "clf_4 = Pipeline([('vect', TfidfVectorizer(\n",
    "            token_pattern=ur\"\\b[a-z0-9_\\-\\.]+[a-z][a-z0-9_\\-\\.]+\\b\",)),\n",
    "                 ('clf', MultinomialNB()),])\n"
   ]
  },
  {
   "cell_type": "code",
   "execution_count": 33,
   "metadata": {
    "collapsed": false
   },
   "outputs": [
    {
     "name": "stdout",
     "output_type": "stream",
     "text": [
      "[ 0.86100796  0.8718493   0.86203237  0.87291059  0.8588485 ]\n",
      "Mean score: 0.865 (+/-0.003)\n"
     ]
    }
   ],
   "source": [
    "evaluate_cross_validation(clf_4, news.data, news.target, 5)"
   ]
  },
  {
   "cell_type": "code",
   "execution_count": 37,
   "metadata": {
    "collapsed": false
   },
   "outputs": [],
   "source": [
    "def get_stop_words():\n",
    "    result = set()\n",
    "    for line in open('stopwords_en.txt', 'r').readlines():\n",
    "        result.add(line.strip())\n",
    "    return result"
   ]
  },
  {
   "cell_type": "code",
   "execution_count": 57,
   "metadata": {
    "collapsed": false
   },
   "outputs": [],
   "source": [
    "stop_words = get_stop_words()"
   ]
  },
  {
   "cell_type": "code",
   "execution_count": 40,
   "metadata": {
    "collapsed": true
   },
   "outputs": [],
   "source": [
    "clf_5 = Pipeline([('vect', TfidfVectorizer(\n",
    "                    stop_words = get_stop_words(),\n",
    "                    token_pattern=ur\"\\b[a-z0-9_\\-\\.]+[a-z][a-z0-9_\\-\\.]+\\b\",)),\n",
    "                 ('clf', MultinomialNB()),])\n"
   ]
  },
  {
   "cell_type": "code",
   "execution_count": 41,
   "metadata": {
    "collapsed": false
   },
   "outputs": [
    {
     "name": "stdout",
     "output_type": "stream",
     "text": [
      "[ 0.88116711  0.89519767  0.88325816  0.89227912  0.88113558]\n",
      "Mean score: 0.887 (+/-0.003)\n"
     ]
    }
   ],
   "source": [
    "evaluate_cross_validation(clf_5, news.data, news.target, 5)"
   ]
  },
  {
   "cell_type": "code",
   "execution_count": 58,
   "metadata": {
    "collapsed": true
   },
   "outputs": [],
   "source": [
    "# Change alpha parameter in MultinomialNB from 1 to 0.01\n",
    "\n",
    "clf_7 = Pipeline([\n",
    "    ('vect', TfidfVectorizer(\n",
    "                stop_words=stop_words,\n",
    "                token_pattern=ur\"\\b[a-z0-9_\\-\\.]+[a-z][a-z0-9_\\-\\.]+\\b\",         \n",
    "    )),\n",
    "    ('clf', MultinomialNB(alpha=0.01)),\n",
    "])"
   ]
  },
  {
   "cell_type": "code",
   "execution_count": 59,
   "metadata": {
    "collapsed": false
   },
   "outputs": [
    {
     "name": "stdout",
     "output_type": "stream",
     "text": [
      "[ 0.9204244   0.91960732  0.91828071  0.92677103  0.91854603]\n",
      "Mean score: 0.921 (+/-0.002)\n"
     ]
    }
   ],
   "source": [
    "evaluate_cross_validation(clf_7, news.data, news.target, 5)"
   ]
  },
  {
   "cell_type": "markdown",
   "metadata": {},
   "source": [
    "## Evaluating the performance"
   ]
  },
  {
   "cell_type": "code",
   "execution_count": 60,
   "metadata": {
    "collapsed": true
   },
   "outputs": [],
   "source": [
    "from sklearn import metrics\n",
    "\n",
    "def train_and_evaluate(clf, X_train, X_test, y_train, y_test):\n",
    "    \n",
    "    clf.fit(X_train, y_train)\n",
    "    \n",
    "    print \"Accuracy on training set:\"\n",
    "    print clf.score(X_train, y_train)\n",
    "    print \"Accuracy on testing set:\"\n",
    "    print clf.score(X_test, y_test)\n",
    "    y_pred = clf.predict(X_test)\n",
    "    \n",
    "    print \"Classification Report:\"\n",
    "    print metrics.classification_report(y_test, y_pred)\n",
    "    print \"Confusion Matrix:\"\n",
    "    print metrics.confusion_matrix(y_test, y_pred)"
   ]
  },
  {
   "cell_type": "code",
   "execution_count": 61,
   "metadata": {
    "collapsed": false
   },
   "outputs": [
    {
     "name": "stdout",
     "output_type": "stream",
     "text": [
      "Accuracy on training set:\n",
      "0.996957690675\n",
      "Accuracy on testing set:\n",
      "0.917869269949\n",
      "Classification Report:\n",
      "             precision    recall  f1-score   support\n",
      "\n",
      "          0       0.95      0.88      0.91       216\n",
      "          1       0.85      0.85      0.85       246\n",
      "          2       0.91      0.84      0.87       274\n",
      "          3       0.81      0.86      0.83       235\n",
      "          4       0.88      0.90      0.89       231\n",
      "          5       0.89      0.91      0.90       225\n",
      "          6       0.88      0.80      0.84       248\n",
      "          7       0.92      0.93      0.93       275\n",
      "          8       0.96      0.98      0.97       226\n",
      "          9       0.97      0.94      0.96       250\n",
      "         10       0.97      1.00      0.98       257\n",
      "         11       0.97      0.97      0.97       261\n",
      "         12       0.90      0.91      0.91       216\n",
      "         13       0.94      0.95      0.95       257\n",
      "         14       0.94      0.97      0.95       246\n",
      "         15       0.90      0.96      0.93       234\n",
      "         16       0.91      0.97      0.94       218\n",
      "         17       0.97      0.99      0.98       236\n",
      "         18       0.95      0.91      0.93       213\n",
      "         19       0.86      0.78      0.82       148\n",
      "\n",
      "avg / total       0.92      0.92      0.92      4712\n",
      "\n",
      "Confusion Matrix:\n",
      "[[190   0   0   0   1   0   0   0   0   1   0   0   0   1   0   9   2   0\n",
      "    0  12]\n",
      " [  0 208   5   3   3  13   4   0   0   0   0   1   3   2   3   0   0   1\n",
      "    0   0]\n",
      " [  0  11 230  22   1   5   1   0   1   0   0   0   0   0   1   0   1   0\n",
      "    1   0]\n",
      " [  0   6   6 202   9   3   4   0   0   0   0   0   4   0   1   0   0   0\n",
      "    0   0]\n",
      " [  0   2   3   4 208   1   5   0   0   0   2   0   5   0   1   0   0   0\n",
      "    0   0]\n",
      " [  0   9   2   2   1 205   0   1   1   0   0   0   0   2   1   0   0   1\n",
      "    0   0]\n",
      " [  0   2   3  10   6   0 199  14   1   2   0   1   5   2   2   0   0   1\n",
      "    0   0]\n",
      " [  0   1   1   1   1   0   6 257   4   1   0   0   0   1   0   0   2   0\n",
      "    0   0]\n",
      " [  0   0   0   0   0   1   1   2 221   0   0   0   0   1   0   0   0   0\n",
      "    0   0]\n",
      " [  0   0   0   0   0   0   1   0   2 236   5   0   1   3   0   1   1   0\n",
      "    0   0]\n",
      " [  0   0   0   1   0   0   0   0   0   0 256   0   0   0   0   0   0   0\n",
      "    0   0]\n",
      " [  0   0   0   0   0   1   0   1   0   0   0 254   0   1   0   0   3   0\n",
      "    1   0]\n",
      " [  0   1   0   1   5   1   3   1   0   2   1   1 197   1   2   0   0   0\n",
      "    0   0]\n",
      " [  0   1   0   1   1   0   0   0   0   0   0   2   2 245   3   0   1   0\n",
      "    0   1]\n",
      " [  0   2   0   0   1   0   0   1   0   0   0   0   0   1 238   0   1   0\n",
      "    1   1]\n",
      " [  1   0   1   2   0   0   0   1   0   0   0   1   1   0   1 225   0   1\n",
      "    0   0]\n",
      " [  0   0   1   0   0   0   1   0   1   0   0   1   0   0   0   0 212   0\n",
      "    2   0]\n",
      " [  0   1   0   0   0   0   0   0   0   0   0   0   0   0   0   0   0 234\n",
      "    1   0]\n",
      " [  0   0   0   0   0   0   1   0   0   0   0   2   1   1   0   1   7   3\n",
      "  193   4]\n",
      " [  9   0   0   0   0   1   0   0   0   1   0   0   0   0   0  13   4   1\n",
      "    4 115]]\n"
     ]
    }
   ],
   "source": [
    "train_and_evaluate(clf_7, X_train, X_test, y_train, y_test)"
   ]
  },
  {
   "cell_type": "code",
   "execution_count": 62,
   "metadata": {
    "collapsed": false
   },
   "outputs": [
    {
     "name": "stdout",
     "output_type": "stream",
     "text": [
      "145771\n"
     ]
    }
   ],
   "source": [
    "print len(clf_7.named_steps['vect'].get_feature_names())"
   ]
  },
  {
   "cell_type": "code",
   "execution_count": 63,
   "metadata": {
    "collapsed": false
   },
   "outputs": [
    {
     "data": {
      "text/plain": [
       "[u'0-.66d8wt',\n",
       " u'0-04g55',\n",
       " u'0-100mph',\n",
       " u'0-13-117441-x--or',\n",
       " u'0-3mb',\n",
       " u'0-40mb',\n",
       " u'0-40volts',\n",
       " u'0-5mb',\n",
       " u'0-60mph',\n",
       " u'0-8.3mb',\n",
       " u'0-a00138',\n",
       " u'0-byte',\n",
       " u'0-defects',\n",
       " u'0-e8',\n",
       " u'0-for-4',\n",
       " u'0-hc',\n",
       " u'0-ii',\n",
       " u'0-uw',\n",
       " u'0-uw0',\n",
       " u'0-uw2',\n",
       " u'0-uwa',\n",
       " u'0-uwt',\n",
       " u'0-uwt7',\n",
       " u'0-uww',\n",
       " u'0-uww7',\n",
       " u'0.-w0',\n",
       " u'0..x-1',\n",
       " u'0.00...nice',\n",
       " u'0.02cents',\n",
       " u'0.0cb',\n",
       " u'0.1-ports',\n",
       " u'0.15mb',\n",
       " u'0.2d-_',\n",
       " u'0.5db',\n",
       " u'0.6-micron',\n",
       " u'0.65mb',\n",
       " u'0.97pl4',\n",
       " u'0.b34s_',\n",
       " u'0.c0rgo5kj7pp0',\n",
       " u'0.c4',\n",
       " u'0.jy',\n",
       " u'0.s_',\n",
       " u'0.tprv6ekj7r',\n",
       " u'0.tt',\n",
       " u'0.txa_',\n",
       " u'0.txc',\n",
       " u'0.vpp',\n",
       " u'0.vpsll2',\n",
       " u'00-index.txt',\n",
       " u'000-foot',\n",
       " u'000-kg',\n",
       " u'000-man',\n",
       " u'000-maxwell',\n",
       " u'000-strong',\n",
       " u'000000.active.spx',\n",
       " u'000062david42',\n",
       " u'000100255pixel',\n",
       " u'0005111312na1em',\n",
       " u'0005111312na3em',\n",
       " u'000hz',\n",
       " u'000iu',\n",
       " u'000mg',\n",
       " u'000mi',\n",
       " u'000miles',\n",
       " u'000puq9',\n",
       " u'000rpm',\n",
       " u'000th',\n",
       " u'000ug',\n",
       " u'000usd',\n",
       " u'0010580b.0b6r49',\n",
       " u'0010580b.vma7o9',\n",
       " u'0010580b.vmcbrt',\n",
       " u'001200201pixel',\n",
       " u'002251w.5.734117130',\n",
       " u'007bww3',\n",
       " u'007gjf3',\n",
       " u'00969fba.e640ff10',\n",
       " u'0096b0f0.c5de05a0',\n",
       " u'0096b11b.08a283a0',\n",
       " u'0096b294.aad9c1e0',\n",
       " u'00acearl',\n",
       " u'00am',\n",
       " u'00bjgood',\n",
       " u'00cgbabbitt',\n",
       " u'00cjmelching',\n",
       " u'00cmmiller',\n",
       " u'00ecgillespi',\n",
       " u'00ecgillespie',\n",
       " u'00index',\n",
       " u'00lz8bct',\n",
       " u'00mbstultz',\n",
       " u'00pm',\n",
       " u'00pm-9',\n",
       " u'00pmlemen',\n",
       " u'0100lines',\n",
       " u'01050810.vkcsbl',\n",
       " u'01050810.vuumdq',\n",
       " u'0123456789abcdef',\n",
       " u'014t4',\n",
       " u'01_introduction.ma',\n",
       " u'01apr93.17160985.0059',\n",
       " u'01c8',\n",
       " u'01f6',\n",
       " u'01h0',\n",
       " u'01ll',\n",
       " u'01ne',\n",
       " u'01ob',\n",
       " u'01vl2',\n",
       " u'01ya',\n",
       " u'02-0zl',\n",
       " u'02-jul-92',\n",
       " u'02-q9ign',\n",
       " u'020qw',\n",
       " u'026bf',\n",
       " u'02_math_model.ma',\n",
       " u'02_math_models.ma',\n",
       " u'02at',\n",
       " u'02bp1m51',\n",
       " u'02bz',\n",
       " u'02e0',\n",
       " u'02f8',\n",
       " u'02ixl',\n",
       " u'02mm',\n",
       " u'02qvq',\n",
       " u'02r4e',\n",
       " u'02tl',\n",
       " u'02tm_',\n",
       " u'02tmn',\n",
       " u'02va7pu',\n",
       " u'02vx',\n",
       " u'02vy',\n",
       " u'02vyn',\n",
       " u'02vz089',\n",
       " u'03-sep-1967',\n",
       " u'030-based',\n",
       " u'0300ff',\n",
       " u'03_1_transient_response.ma',\n",
       " u'03_2_transient_response.ma',\n",
       " u'03_3_transient_response.ma',\n",
       " u'03aa',\n",
       " u'03ab',\n",
       " u'03e8',\n",
       " u'03f8',\n",
       " u'03ho.lk8',\n",
       " u'03hord',\n",
       " u'03hz',\n",
       " u'03hz.b',\n",
       " u'03hz.cj1',\n",
       " u'03hz.fg',\n",
       " u'03hz.h8o.ci',\n",
       " u'03hzri',\n",
       " u'03i3',\n",
       " u'03ii',\n",
       " u'03ii.chzd9',\n",
       " u'03imv',\n",
       " u'03is',\n",
       " u'03j1.lk',\n",
       " u'03j1d9',\n",
       " u'03k8.chzv',\n",
       " u'03k8rg',\n",
       " u'03m4u',\n",
       " u'03u0',\n",
       " u'03vo',\n",
       " u'04.cesyy',\n",
       " u'0430-1500ut',\n",
       " u'0433nl',\n",
       " u'044tcya',\n",
       " u'045q2',\n",
       " u'046p4',\n",
       " u'046q2b5u',\n",
       " u'046sau',\n",
       " u'046um',\n",
       " u'04_steady_state_response.ma',\n",
       " u'04ax',\n",
       " u'04he',\n",
       " u'04hj',\n",
       " u'04hlal',\n",
       " u'04hm34u',\n",
       " u'04jdj',\n",
       " u'04mk',\n",
       " u'04p2',\n",
       " u'04trtcp',\n",
       " u'04wsedwjy',\n",
       " u'04x1',\n",
       " u'04zb',\n",
       " u'055555556q-34u',\n",
       " u'055555556ql34u-34u--jjjjjjj',\n",
       " u'05_root_locus.ma',\n",
       " u'05apr93.02451203.0049',\n",
       " u'05apr93.02678944.0049',\n",
       " u'05apr93.13661642.0023',\n",
       " u'05bc5cvfq',\n",
       " u'05dzu',\n",
       " u'05fh',\n",
       " u'05gd87g',\n",
       " u'05ic',\n",
       " u'05jl1i',\n",
       " u'05ll',\n",
       " u'05lma',\n",
       " u'05lxm34',\n",
       " u'05lxn',\n",
       " u'05pm',\n",
       " u'05rov',\n",
       " u'05s.5',\n",
       " u'0600lines',\n",
       " u'06_freq_response.ma',\n",
       " u'06a7_e9',\n",
       " u'06dz.b',\n",
       " u'06eh.c4',\n",
       " u'06eh.ya',\n",
       " u'06eh.yk6ql2',\n",
       " u'06f1',\n",
       " u'06hwke',\n",
       " u'06ku',\n",
       " u'06kv',\n",
       " u'06mz',\n",
       " u'06n.edo6',\n",
       " u'06paul',\n",
       " u'06s4bnv',\n",
       " u'06tz',\n",
       " u'06tzv',\n",
       " u'06umv',\n",
       " u'06w8',\n",
       " u'06zkc4',\n",
       " u'07-may-93',\n",
       " u'07.sl',\n",
       " u'07.v0',\n",
       " u'07220yfz',\n",
       " u'0776ov_h',\n",
       " u'07_state_space.ma',\n",
       " u'07aq',\n",
       " u'07cgk',\n",
       " u'07iz',\n",
       " u'07l99',\n",
       " u'07lhs',\n",
       " u'07qnjbue',\n",
       " u'07sc',\n",
       " u'07tic',\n",
       " u'0824e2vyn',\n",
       " u'088z.lk',\n",
       " u'08m9.sl',\n",
       " u'08oz',\n",
       " u'08u12',\n",
       " u'08ws',\n",
       " u'09_d2p',\n",
       " u'09aa',\n",
       " u'09g9',\n",
       " u'09h3o',\n",
       " u'09k_',\n",
       " u'09m81h',\n",
       " u'09oxdk',\n",
       " u'09w0f',\n",
       " u'0_8ge',\n",
       " u'0_e8',\n",
       " u'0_h1',\n",
       " u'0_kp82_5',\n",
       " u'0_ww',\n",
       " u'0_zs',\n",
       " u'0a000',\n",
       " u'0a1',\n",
       " u'0a3',\n",
       " u'0a34',\n",
       " u'0a4pirs-f0um15',\n",
       " u'0a7h23iai7',\n",
       " u'0a99',\n",
       " u'0ab15j2qf3f',\n",
       " u'0adh',\n",
       " u'0ae6c',\n",
       " u'0ain',\n",
       " u'0am',\n",
       " u'0amo',\n",
       " u'0aujqb',\n",
       " u'0av',\n",
       " u'0aw',\n",
       " u'0ax',\n",
       " u'0ayf',\n",
       " u'0b-a',\n",
       " u'0b-x2',\n",
       " u'0b1fatransfer',\n",
       " u'0b2',\n",
       " u'0b4dam',\n",
       " u'0b6er',\n",
       " u'0b8',\n",
       " u'0b800',\n",
       " u'0b800h',\n",
       " u'0bh',\n",
       " u'0bj',\n",
       " u'0bla',\n",
       " u'0bm2',\n",
       " u'0bn',\n",
       " u'0bnw',\n",
       " u'0bus',\n",
       " u'0bv',\n",
       " u'0bvm005',\n",
       " u'0bz',\n",
       " u'0c000',\n",
       " u'0c4v',\n",
       " u'0c5r',\n",
       " u'0c800',\n",
       " u'0cdwkv_',\n",
       " u'0cg',\n",
       " u'0cgf',\n",
       " u'0ct1t',\n",
       " u'0cz',\n",
       " u'0d-jm',\n",
       " u'0d.8',\n",
       " u'0d.x',\n",
       " u'0d1',\n",
       " u'0d2',\n",
       " u'0d36b',\n",
       " u'0d4',\n",
       " u'0d6',\n",
       " u'0d7',\n",
       " u'0d84.sz',\n",
       " u'0db',\n",
       " u'0ded',\n",
       " u'0df',\n",
       " u'0dfsx',\n",
       " u'0dfvij',\n",
       " u'0dfyl',\n",
       " u'0dgq',\n",
       " u'0dgw83',\n",
       " u'0dh',\n",
       " u'0di',\n",
       " u'0dj',\n",
       " u'0dl',\n",
       " u'0dn1',\n",
       " u'0dnynno-7',\n",
       " u'0doh7',\n",
       " u'0du',\n",
       " u'0dum',\n",
       " u'0dvf2l',\n",
       " u'0dy.tm',\n",
       " u'0e000',\n",
       " u'0e1',\n",
       " u'0e3udg11',\n",
       " u'0e4',\n",
       " u'0e75',\n",
       " u'0e75x',\n",
       " u'0e9',\n",
       " u'0e97pm4',\n",
       " u'0e97pm8',\n",
       " u'0e97pms8',\n",
       " u'0echy',\n",
       " u'0ek',\n",
       " u'0ek-c8v',\n",
       " u'0ek-c8v-c8v-c8v-c9n',\n",
       " u'0ek-c9n',\n",
       " u'0ek-c9nv1',\n",
       " u'0ekr',\n",
       " u'0en36',\n",
       " u'0ep',\n",
       " u'0erdivbud',\n",
       " u'0ex',\n",
       " u'0ex6',\n",
       " u'0ez',\n",
       " u'0f.1p',\n",
       " u'0f000',\n",
       " u'0f0064',\n",
       " u'0f1',\n",
       " u'0f18fa5b225d03d3a401973b4318dd0e',\n",
       " u'0f1u',\n",
       " u'0f3',\n",
       " u'0f8',\n",
       " u'0ffnm',\n",
       " u'0fgj5',\n",
       " u'0fh',\n",
       " u'0fhmt',\n",
       " u'0fj',\n",
       " u'0fo0',\n",
       " u'0forqfa00iuzmatnmz',\n",
       " u'0fovj7i00wb4miumht',\n",
       " u'0fpzy',\n",
       " u'0fq',\n",
       " u'0frolv200awvi3iv4s',\n",
       " u'0fs',\n",
       " u'0fv8',\n",
       " u'0fw',\n",
       " u'0fz1mtpe',\n",
       " u'0g12o',\n",
       " u'0g19',\n",
       " u'0g4',\n",
       " u'0g8',\n",
       " u'0g_g',\n",
       " u'0gg',\n",
       " u'0ggu',\n",
       " u'0ggv',\n",
       " u'0gi',\n",
       " u'0gij',\n",
       " u'0giyx',\n",
       " u'0gj',\n",
       " u'0gl',\n",
       " u'0gyts',\n",
       " u'0gz',\n",
       " u'0h-0',\n",
       " u'0h-p',\n",
       " u'0h0',\n",
       " u'0h2',\n",
       " u'0h23tc',\n",
       " u'0h4ou',\n",
       " u'0h6o481w8h1t2',\n",
       " u'0h6xl',\n",
       " u'0h8',\n",
       " u'0h9',\n",
       " u'0h9_',\n",
       " u'0ha',\n",
       " u'0ha7b0',\n",
       " u'0hb',\n",
       " u'0hd',\n",
       " u'0hdf',\n",
       " u'0hg',\n",
       " u'0hg8erx',\n",
       " u'0hgw',\n",
       " u'0hh9',\n",
       " u'0hjt',\n",
       " u'0hm',\n",
       " u'0hpg5x-t',\n",
       " u'0hq',\n",
       " u'0hq4',\n",
       " u'0ht',\n",
       " u'0hyx',\n",
       " u'0i-5u',\n",
       " u'0i.3',\n",
       " u'0i.bn',\n",
       " u'0i0_',\n",
       " u'0i281',\n",
       " u'0i3rq',\n",
       " u'0i7cx',\n",
       " u'0i91n',\n",
       " u'0ic',\n",
       " u'0ieo2el',\n",
       " u'0ih',\n",
       " u'0ij',\n",
       " u'0is0',\n",
       " u'0iv',\n",
       " u'0ivbg6',\n",
       " u'0ivbtm9',\n",
       " u'0ivbud',\n",
       " u'0ivbud9',\n",
       " u'0ivbudk',\n",
       " u'0ivbvl',\n",
       " u'0ivc',\n",
       " u'0ive',\n",
       " u'0ive8',\n",
       " u'0ivf1dk',\n",
       " u'0ivf2l',\n",
       " u'0ivmhm',\n",
       " u'0ivmhm9',\n",
       " u'0ivmiu',\n",
       " u'0ivmk',\n",
       " u'0iwx.c',\n",
       " u'0iwx.c0rvl',\n",
       " u'0j4',\n",
       " u'0j5',\n",
       " u'0j5-57',\n",
       " u'0j_0-3',\n",
       " u'0ja3d',\n",
       " u'0jb6pwzasj',\n",
       " u'0je',\n",
       " u'0jeiq',\n",
       " u'0jf',\n",
       " u'0jh',\n",
       " u'0jkh',\n",
       " u'0jr',\n",
       " u'0jt1',\n",
       " u'0jx',\n",
       " u'0jx5gvp',\n",
       " u'0jy',\n",
       " u'0jz',\n",
       " u'0k-2u',\n",
       " u'0k5',\n",
       " u'0k82',\n",
       " u'0k83a',\n",
       " u'0k9jsu',\n",
       " u'0kbfkp',\n",
       " u'0kd',\n",
       " u'0kh',\n",
       " u'0khp',\n",
       " u'0kj',\n",
       " u'0km',\n",
       " u'0km2',\n",
       " u'0kqi',\n",
       " u'0kr',\n",
       " u'0ks',\n",
       " u'0ksx',\n",
       " u'0kt',\n",
       " u'0kwbw',\n",
       " u'0l0',\n",
       " u'0l5h06j',\n",
       " u'0l5h06l',\n",
       " u'0l7',\n",
       " u'0la1z',\n",
       " u'0lc',\n",
       " u'0lhf',\n",
       " u'0li',\n",
       " u'0ll',\n",
       " u'0lme3vkdw6wo',\n",
       " u'0lnbq',\n",
       " u'0lnnm',\n",
       " u'0lo',\n",
       " u'0lowt',\n",
       " u'0lq',\n",
       " u'0ls8',\n",
       " u'0lsbd',\n",
       " u'0lu',\n",
       " u'0lv',\n",
       " u'0lv1a4e3',\n",
       " u'0lzi3-z-5pzk8',\n",
       " u'0m0x',\n",
       " u'0m1qz',\n",
       " u'0m2',\n",
       " u'0m5',\n",
       " u'0m6bq',\n",
       " u'0m75',\n",
       " u'0m75de06b4q',\n",
       " u'0m75u',\n",
       " u'0m75u9',\n",
       " u'0m8',\n",
       " u'0m8b',\n",
       " u'0m8bnh',\n",
       " u'0m8w',\n",
       " u'0ma',\n",
       " u'0max',\n",
       " u'0mbz',\n",
       " u'0mc',\n",
       " u'0megyt',\n",
       " u'0mez-k9k',\n",
       " u'0mf',\n",
       " u'0mi',\n",
       " u'0mis',\n",
       " u'0mjx9',\n",
       " u'0mk',\n",
       " u'0mk.sl',\n",
       " u'0mk80',\n",
       " u'0mkg',\n",
       " u'0ml',\n",
       " u'0mm2',\n",
       " u'0moa',\n",
       " u'0mph',\n",
       " u'0mq69',\n",
       " u'0ms0',\n",
       " u'0msd',\n",
       " u'0mvbdi',\n",
       " u'0mvbf',\n",
       " u'0mvbgt',\n",
       " u'0mvbtmvo2',\n",
       " u'0mvh',\n",
       " u'0mvmk',\n",
       " u'0mxb',\n",
       " u'0n1',\n",
       " u'0n3',\n",
       " u'0n5',\n",
       " u'0nb',\n",
       " u'0ne1',\n",
       " u'0neat',\n",
       " u'0nf',\n",
       " u'0nfdh',\n",
       " u'0nh',\n",
       " u'0ni4',\n",
       " u'0niy',\n",
       " u'0nq',\n",
       " u'0nt',\n",
       " u'0ntmrn',\n",
       " u'0ntv.273g',\n",
       " u'0o-y',\n",
       " u'0o2',\n",
       " u'0o2d',\n",
       " u'0o3',\n",
       " u'0o6kgm',\n",
       " u'0o_2',\n",
       " u'0oa',\n",
       " u'0ods2b8',\n",
       " u'0of',\n",
       " u'0oft',\n",
       " u'0ogl',\n",
       " u'0oi',\n",
       " u'0ol',\n",
       " u'0ol63',\n",
       " u'0olmi2',\n",
       " u'0omdcua8a4',\n",
       " u'0opco-dw',\n",
       " u'0oqis',\n",
       " u'0os8is7u',\n",
       " u'0otv',\n",
       " u'0otz',\n",
       " u'0p0',\n",
       " u'0p1i5',\n",
       " u'0p38',\n",
       " u'0p4u-34u',\n",
       " u'0p5f',\n",
       " u'0p6',\n",
       " u'0p6a3b1w165w',\n",
       " u'0p7',\n",
       " u'0p8',\n",
       " u'0p8jiac',\n",
       " u'0p9c',\n",
       " u'0p_7924x',\n",
       " u'0pd',\n",
       " u'0pe0',\n",
       " u'0pfbd',\n",
       " u'0pj',\n",
       " u'0pl4',\n",
       " u'0pn',\n",
       " u'0pp',\n",
       " u'0prum0q',\n",
       " u'0ptm',\n",
       " u'0pto',\n",
       " u'0pvhr4',\n",
       " u'0pvx',\n",
       " u'0px8r',\n",
       " u'0pxf1l',\n",
       " u'0pxve0b',\n",
       " u'0pzwx',\n",
       " u'0q-_0',\n",
       " u'0q.-xny5gx',\n",
       " u'0q.x1',\n",
       " u'0q1t',\n",
       " u'0q76t',\n",
       " u'0qas',\n",
       " u'0qax',\n",
       " u'0qb',\n",
       " u'0qhh',\n",
       " u'0qljfw',\n",
       " u'0qm0n0',\n",
       " u'0qq',\n",
       " u'0qqiyay6s',\n",
       " u'0qu',\n",
       " u'0quh',\n",
       " u'0qur',\n",
       " u'0qv',\n",
       " u'0qvn',\n",
       " u'0qvq',\n",
       " u'0qvql6s3b',\n",
       " u'0qvqma',\n",
       " u'0qvqn',\n",
       " u'0qvqn1',\n",
       " u'0qw',\n",
       " u'0qwa',\n",
       " u'0qwol6s3',\n",
       " u'0qwomk4',\n",
       " u'0qxp',\n",
       " u'0r.da',\n",
       " u'0r1l40',\n",
       " u'0r2',\n",
       " u'0r445',\n",
       " u'0r66',\n",
       " u'0r_',\n",
       " u'0razbbh107h',\n",
       " u'0rchzv',\n",
       " u'0rdf',\n",
       " u'0rfumrd',\n",
       " u'0rgt9',\n",
       " u'0rhj',\n",
       " u'0rht',\n",
       " u'0rk',\n",
       " u'0rn',\n",
       " u'0rr',\n",
       " u'0rtr-58',\n",
       " u'0ru',\n",
       " u'0rv',\n",
       " u'0ry48x',\n",
       " u'0s03',\n",
       " u'0s1',\n",
       " u'0s2',\n",
       " u'0s4',\n",
       " u'0s792j8jdn',\n",
       " u'0s9',\n",
       " u'0sc3',\n",
       " u'0scr',\n",
       " u'0sk',\n",
       " u'0sl',\n",
       " u'0sla0t',\n",
       " u'0slrmc',\n",
       " u'0smpax',\n",
       " u'0std',\n",
       " u'0sx',\n",
       " u'0sz',\n",
       " u'0sz5u',\n",
       " u'0sz6_f',\n",
       " u'0t-l',\n",
       " u'0t-w',\n",
       " u'0t-wb',\n",
       " u'0t-wi_6ukx',\n",
       " u'0t-wj',\n",
       " u'0t-wm',\n",
       " u'0t-wmxg',\n",
       " u'0t-wmz',\n",
       " u'0t.u',\n",
       " u'0t2o',\n",
       " u'0t7-u',\n",
       " u'0t7s',\n",
       " u'0tb',\n",
       " u'0tbxn',\n",
       " u'0tbxom',\n",
       " u'0tbxom4',\n",
       " u'0tbxom4u-3l',\n",
       " u'0tfj',\n",
       " u'0tg',\n",
       " u'0tgx',\n",
       " u'0tgx8',\n",
       " u'0th',\n",
       " u'0thbq',\n",
       " u'0tig1',\n",
       " u'0tk',\n",
       " u'0tmobi',\n",
       " u'0tn',\n",
       " u'0tp',\n",
       " u'0tq',\n",
       " u'0tq33',\n",
       " u'0tq6',\n",
       " u'0trb',\n",
       " u'0tsi',\n",
       " u'0tsq3',\n",
       " u'0tu525vk',\n",
       " u'0tv_g',\n",
       " u'0tzv',\n",
       " u'0u-1y',\n",
       " u'0u1',\n",
       " u'0u14',\n",
       " u'0u140w',\n",
       " u'0u2',\n",
       " u'0u48c',\n",
       " u'0u59',\n",
       " u'0ud',\n",
       " u'0ue',\n",
       " u'0ulx',\n",
       " u'0un',\n",
       " u'0up9',\n",
       " u'0urx',\n",
       " u'0uuv',\n",
       " u'0uv',\n",
       " u'0uxgblk',\n",
       " u'0uy',\n",
       " u'0v.zlp',\n",
       " u'0v2',\n",
       " u'0v34b',\n",
       " u'0v6p',\n",
       " u'0va',\n",
       " u'0vah',\n",
       " u'0vah8',\n",
       " u'0vb.y',\n",
       " u'0vbs',\n",
       " u'0vcol6s3',\n",
       " u'0vcol6s3m',\n",
       " u'0vd',\n",
       " u'0vet',\n",
       " u'0vg',\n",
       " u'0vg09_',\n",
       " u'0vkjsj1',\n",
       " u'0vkjzl',\n",
       " u'0vkzyrah8',\n",
       " u'0vow8',\n",
       " u'0vpy8cl',\n",
       " u'0vuimj',\n",
       " u'0vv6',\n",
       " u'0vx48',\n",
       " u'0vy4b',\n",
       " u'0w-p',\n",
       " u'0w0',\n",
       " u'0w013',\n",
       " u'0w25z0r8p',\n",
       " u'0w2z2b1w164w',\n",
       " u'0w3',\n",
       " u'0w4',\n",
       " u'0w5',\n",
       " u'0w5r',\n",
       " u'0w8',\n",
       " u'0w9_',\n",
       " u'0wa',\n",
       " u'0wa8nfu',\n",
       " u'0wax0t',\n",
       " u'0wc',\n",
       " u'0we',\n",
       " u'0wiz',\n",
       " u'0wj',\n",
       " u'0wk',\n",
       " u'0wk.lhz.d',\n",
       " u'0wkg',\n",
       " u'0wkz',\n",
       " u'0wmfhhm',\n",
       " u'0ws',\n",
       " u'0wu',\n",
       " u'0wv',\n",
       " u'0ww',\n",
       " u'0wxb',\n",
       " u'0wzu',\n",
       " u'0x.xn',\n",
       " u'0x0',\n",
       " u'0x00',\n",
       " u'0x00-0x1f',\n",
       " u'0x000c',\n",
       " u'0x000f',\n",
       " u'0x0069',\n",
       " u'0x01',\n",
       " u'0x02',\n",
       " u'0x03',\n",
       " u'0x03f8',\n",
       " u'0x04',\n",
       " u'0x08',\n",
       " u'0x0f',\n",
       " u'0x10',\n",
       " u'0x100',\n",
       " u'0x14',\n",
       " u'0x170',\n",
       " u'0x2',\n",
       " u'0x20',\n",
       " u'0x200',\n",
       " u'0x201',\n",
       " u'0x21',\n",
       " u'0x22',\n",
       " u'0x23',\n",
       " u'0x24',\n",
       " u'0x25',\n",
       " u'0x27',\n",
       " u'0x280',\n",
       " u'0x29',\n",
       " u'0x2e0',\n",
       " u'0x2e8',\n",
       " u'0x30',\n",
       " u'0x360-0x37f',\n",
       " u'0x37a',\n",
       " u'0x37f',\n",
       " u'0x38',\n",
       " u'0x3c',\n",
       " u'0x3d4',\n",
       " u'0x3f',\n",
       " u'0x40',\n",
       " u'0x4000',\n",
       " u'0x400000',\n",
       " u'0x4d42',\n",
       " u'0x500043',\n",
       " u'0x5i',\n",
       " u'0x6',\n",
       " u'0x60',\n",
       " u'0x62',\n",
       " u'0x6b',\n",
       " u'0x6kj4m',\n",
       " u'0x7',\n",
       " u'0x7f',\n",
       " u'0x80',\n",
       " u'0x800000',\n",
       " u'0x80079',\n",
       " u'0x8007a',\n",
       " u'0x8007b',\n",
       " u'0x80080',\n",
       " u'0x80083',\n",
       " u'0x9ma1f6',\n",
       " u'0x9o01f6',\n",
       " u'0xa',\n",
       " u'0xa00000',\n",
       " u'0xa3',\n",
       " u'0xa7',\n",
       " u'0xa8',\n",
       " u'0xb',\n",
       " u'0xb00003',\n",
       " u'0xbum1',\n",
       " u'0xc0',\n",
       " u'0xc010',\n",
       " u'0xc018',\n",
       " u'0xd',\n",
       " u'0xd000',\n",
       " u'0xd0000d',\n",
       " u'0xd0001d',\n",
       " u'0xe0000d',\n",
       " u'0xff',\n",
       " u'0xff00',\n",
       " u'0xff0000',\n",
       " u'0xffffffff',\n",
       " u'0xh',\n",
       " u'0xhb',\n",
       " u'0xhi',\n",
       " u'0xi',\n",
       " u'0xw',\n",
       " u'0xx',\n",
       " u'0y.3dy',\n",
       " u'0y3',\n",
       " u'0y4',\n",
       " u'0yf07nq94',\n",
       " u'0yg',\n",
       " u'0yh_0lxiad',\n",
       " u'0yhk',\n",
       " u'0yi0v',\n",
       " u'0yj',\n",
       " u'0yldm',\n",
       " u'0ytj',\n",
       " u'0yu85',\n",
       " u'0yxey',\n",
       " u'0yxt',\n",
       " u'0z-1l',\n",
       " u'0z.xf',\n",
       " u'0z00.iim0',\n",
       " u'0z4',\n",
       " u'0z4dw_lqxk',\n",
       " u'0z7w_',\n",
       " u'0z8',\n",
       " u'0zd',\n",
       " u'0zphu',\n",
       " u'0zsq9',\n",
       " u'0zsqk',\n",
       " u'0zv',\n",
       " u'0zx',\n",
       " u'0zy',\n",
       " u'0zz',\n",
       " u'0zz8b',\n",
       " u'0zznm',\n",
       " u'0zzum',\n",
       " u'0zzum1',\n",
       " u'1--q9ux',\n",
       " u'1-.jhhgczw',\n",
       " u'1-0-att-0-700-wmurray',\n",
       " u'1-15amp',\n",
       " u'1-1p0b4p2',\n",
       " u'1-2mb',\n",
       " u'1-35io',\n",
       " u'1-38.ay.nk',\n",
       " u'1-3ghz',\n",
       " u'1-3kbyte',\n",
       " u'1-408-730-5750....sam',\n",
       " u'1-408-736-2000...fax',\n",
       " u'1-5w22ya9',\n",
       " u'1-6eiqy',\n",
       " u'1-7sl',\n",
       " u'1-800-245-unix',\n",
       " u'1-800-3-ibm-os2',\n",
       " u'1-800-388-plus',\n",
       " u'1-800-3cl-aris',\n",
       " u'1-800-4-cancer',\n",
       " u'1-800-441-math',\n",
       " u'1-800-828-unix',\n",
       " u'1-800-832-4778.....sam',\n",
       " u'1-800-886-lyme',\n",
       " u'1-800-8applix',\n",
       " u'1-800-ama-join',\n",
       " u'1-800-clu-bmac',\n",
       " u'1-800-dataset',\n",
       " u'1-800-digital',\n",
       " u'1-800-efa-1000',\n",
       " u'1-800-hpclass',\n",
       " u'1-800-mac-stuf',\n",
       " u'1-800-mac-usa1',\n",
       " u'1-800-sos-apple',\n",
       " u'1-800-trainer',\n",
       " u'1-800-uwh-iner',\n",
       " u'1-900-got-srcs',\n",
       " u'1-900-quoteme',\n",
       " u'1-apr-92',\n",
       " u'1-b-1',\n",
       " u'1-bit',\n",
       " u'1-bit-per-pixel',\n",
       " u'1-canucks',\n",
       " u'1-day',\n",
       " u'1-etha0',\n",
       " u'1-foot',\n",
       " u'1-for-1',\n",
       " u'1-in-3',\n",
       " u'1-inch',\n",
       " u'1-kh',\n",
       " u'1-line',\n",
       " u'1-mar-93',\n",
       " u'1-meg',\n",
       " u'1-mile',\n",
       " u'1-millisecond',\n",
       " u'1-pc',\n",
       " u'1-penguins',\n",
       " u'1-qn2j2l8',\n",
       " u'1-run',\n",
       " u'1-screen',\n",
       " u'1-slight',\n",
       " u'1-to-1',\n",
       " u'1-u9',\n",
       " u'1-xpi',\n",
       " u'1-y2',\n",
       " u'1-year',\n",
       " u'1.054589e-34',\n",
       " u'1.0b14',\n",
       " u'1.0b15',\n",
       " u'1.0b16',\n",
       " u'1.16mg',\n",
       " u'1.1scd1',\n",
       " u'1.20in-reply-to',\n",
       " u'1.24in-reply-to',\n",
       " u'1.25mb',\n",
       " u'1.2f33enh',\n",
       " u'1.2gb',\n",
       " u'1.2mb',\n",
       " u'1.2meg',\n",
       " u'1.327e20',\n",
       " u'1.33mb',\n",
       " u'1.3807e-23',\n",
       " u'1.3ci',\n",
       " u'1.3mb',\n",
       " u'1.4-b1',\n",
       " u'1.41.uac',\n",
       " u'1.42e-4',\n",
       " u'1.44mb',\n",
       " u'1.44meg',\n",
       " u'1.44mg',\n",
       " u'1.496e11',\n",
       " u'1.4e-23',\n",
       " u'1.4mb',\n",
       " ...]"
      ]
     },
     "execution_count": 63,
     "metadata": {},
     "output_type": "execute_result"
    }
   ],
   "source": [
    "clf_7.named_steps['vect'].get_feature_names()"
   ]
  },
  {
   "cell_type": "code",
   "execution_count": 64,
   "metadata": {
    "collapsed": true
   },
   "outputs": [],
   "source": [
    "# Studying the tokens used in our dictionary, we see many words with same root.  \n",
    "# Binning words (stemming) could improve model."
   ]
  },
  {
   "cell_type": "markdown",
   "metadata": {},
   "source": [
    "## Explaining Titanic hypothesis with decision trees"
   ]
  },
  {
   "cell_type": "code",
   "execution_count": 66,
   "metadata": {
    "collapsed": false
   },
   "outputs": [],
   "source": [
    "import csv\n",
    "import numpy as np\n",
    "with open('titanic.txt', 'rb') as csvfile:\n",
    "    titanic_reader = csv.reader(csvfile, delimiter=',', quotechar='\"')\n",
    "    \n",
    "    # Header contains feature names\n",
    "    row = titanic_reader.next()\n",
    "    feature_names = np.array(row)\n",
    "    \n",
    "    # Load dataset and target classes\n",
    "    titanic_X, titanic_y = [], []\n",
    "    for row in titanic_reader:\n",
    "        titanic_X.append(row)\n",
    "        titanic_y.append(row[2]) # The target value is \"survived\"\n",
    "        \n",
    "    titanic_X = np.array(titanic_X)\n",
    "    titanic_y = np.array(titanic_y)"
   ]
  },
  {
   "cell_type": "code",
   "execution_count": 67,
   "metadata": {
    "collapsed": false
   },
   "outputs": [
    {
     "name": "stdout",
     "output_type": "stream",
     "text": [
      "['row.names' 'pclass' 'survived' 'name' 'age' 'embarked' 'home.dest' 'room'\n",
      " 'ticket' 'boat' 'sex']\n"
     ]
    }
   ],
   "source": [
    "print feature_names"
   ]
  },
  {
   "cell_type": "code",
   "execution_count": 72,
   "metadata": {
    "collapsed": false
   },
   "outputs": [
    {
     "name": "stdout",
     "output_type": "stream",
     "text": [
      "['1' '1st' '1' 'Allen, Miss Elisabeth Walton' '29.0000' 'Southampton'\n",
      " 'St Louis, MO' 'B-5' '24160 L221' '2' 'female'] 1\n"
     ]
    }
   ],
   "source": [
    "print titanic_X[0], titanic_y[0]"
   ]
  },
  {
   "cell_type": "markdown",
   "metadata": {},
   "source": [
    "### Preprocessing the data"
   ]
  },
  {
   "cell_type": "code",
   "execution_count": 73,
   "metadata": {
    "collapsed": true
   },
   "outputs": [],
   "source": [
    "# we keep class, age and sex\n",
    "titanic_X = titanic_X[:, [1, 4, 10]]\n",
    "feature_names = feature_names[[1, 4, 10]]"
   ]
  },
  {
   "cell_type": "code",
   "execution_count": 74,
   "metadata": {
    "collapsed": false
   },
   "outputs": [
    {
     "name": "stdout",
     "output_type": "stream",
     "text": [
      "['pclass' 'age' 'sex']\n"
     ]
    }
   ],
   "source": [
    "print feature_names"
   ]
  },
  {
   "cell_type": "code",
   "execution_count": 75,
   "metadata": {
    "collapsed": false
   },
   "outputs": [
    {
     "name": "stdout",
     "output_type": "stream",
     "text": [
      "['1st' 'NA' 'female'] 1\n"
     ]
    }
   ],
   "source": [
    "print titanic_X[12], titanic_y[12]"
   ]
  },
  {
   "cell_type": "code",
   "execution_count": 76,
   "metadata": {
    "collapsed": true
   },
   "outputs": [],
   "source": [
    "# We have missing values for age\n",
    "# Assign the mean value\n",
    "ages = titanic_X[:, 1]\n",
    "mean_age = np.mean(titanic_X[ages != 'NA', 1].astype(np.float))\n",
    "titanic_X[titanic_X[:, 1] == 'NA', 1] = mean_age"
   ]
  },
  {
   "cell_type": "code",
   "execution_count": 77,
   "metadata": {
    "collapsed": false
   },
   "outputs": [
    {
     "name": "stdout",
     "output_type": "stream",
     "text": [
      "Categorigical classes: ['female' 'male']\n"
     ]
    }
   ],
   "source": [
    "# Convert categorial data (male/female) into real values\n",
    "# Encode sex\n",
    "from sklearn.preprocessing import LabelEncoder\n",
    "enc = LabelEncoder()\n",
    "label_encoder=enc.fit(titanic_X[:, 2])\n",
    "print \"Categorigical classes:\", label_encoder.classes_"
   ]
  },
  {
   "cell_type": "code",
   "execution_count": 78,
   "metadata": {
    "collapsed": false
   },
   "outputs": [
    {
     "name": "stdout",
     "output_type": "stream",
     "text": [
      "Integer: classes: [0 1]\n"
     ]
    }
   ],
   "source": [
    "integer_classes = label_encoder.transform(label_encoder.classes_)\n",
    "print \"Integer: classes:\", integer_classes"
   ]
  },
  {
   "cell_type": "code",
   "execution_count": 79,
   "metadata": {
    "collapsed": true
   },
   "outputs": [],
   "source": [
    "t = label_encoder.transform(titanic_X[:, 2])\n",
    "titanic_X[:, 2] = t"
   ]
  },
  {
   "cell_type": "code",
   "execution_count": 80,
   "metadata": {
    "collapsed": false
   },
   "outputs": [
    {
     "name": "stdout",
     "output_type": "stream",
     "text": [
      "['pclass' 'age' 'sex']\n"
     ]
    }
   ],
   "source": [
    "print feature_names"
   ]
  },
  {
   "cell_type": "code",
   "execution_count": 82,
   "metadata": {
    "collapsed": false
   },
   "outputs": [
    {
     "name": "stdout",
     "output_type": "stream",
     "text": [
      "['1st' '31.1941810427' '0'] 1\n"
     ]
    }
   ],
   "source": [
    "print titanic_X[12], titanic_y[12]"
   ]
  },
  {
   "cell_type": "code",
   "execution_count": 83,
   "metadata": {
    "collapsed": true
   },
   "outputs": [],
   "source": [
    "# one hot encoding of 1st, 2nd, 3rd classes\n",
    "from sklearn.preprocessing import OneHotEncoder"
   ]
  },
  {
   "cell_type": "code",
   "execution_count": 84,
   "metadata": {
    "collapsed": false
   },
   "outputs": [
    {
     "name": "stdout",
     "output_type": "stream",
     "text": [
      "Categorical classes: ['1st' '2nd' '3rd']\n"
     ]
    }
   ],
   "source": [
    "enc = LabelEncoder()\n",
    "label_encoder = enc.fit(titanic_X[:, 0])\n",
    "print \"Categorical classes:\", label_encoder.classes_"
   ]
  },
  {
   "cell_type": "code",
   "execution_count": 85,
   "metadata": {
    "collapsed": false
   },
   "outputs": [
    {
     "name": "stdout",
     "output_type": "stream",
     "text": [
      "Integer classes: [[0]\n",
      " [1]\n",
      " [2]]\n"
     ]
    }
   ],
   "source": [
    "integer_classes = label_encoder.transform(label_encoder.classes_).reshape(3, 1)\n",
    "print \"Integer classes:\", integer_classes"
   ]
  },
  {
   "cell_type": "code",
   "execution_count": 86,
   "metadata": {
    "collapsed": true
   },
   "outputs": [],
   "source": [
    "enc = OneHotEncoder()\n",
    "one_hot_encoder = enc.fit(integer_classes)\n",
    "# First, convert classes to 0-(N-1) integer using label_encoder\n",
    "num_of_rows = titanic_X.shape[0]\n",
    "t = label_encoder.transform(titanic_X[:, 0]).reshape(num_of_rows, 1)\n",
    "# Second, create a sparse matrix with three columns, each one indicating if the instance belongs to the class\n",
    "new_features = one_hot_encoder.transform(t)\n",
    "# Add the new features to titanic_X\n",
    "titanic_X = np.concatenate([titanic_X, new_features.toarray()], axis=1)\n",
    "# Eliminate converted columns\n",
    "titanic_X = np.delete(titanic_X, [0], 1)\n",
    "# Update feature names\n",
    "feature_names = ['age', 'sex', 'first_class', 'second_class', 'third_class']\n",
    "# Convert to numerical values\n",
    "titnaic_X = titanic_X.astype(float)\n",
    "titnaic_y = titanic_y.astype(float)"
   ]
  },
  {
   "cell_type": "code",
   "execution_count": 87,
   "metadata": {
    "collapsed": false
   },
   "outputs": [
    {
     "name": "stdout",
     "output_type": "stream",
     "text": [
      "['age', 'sex', 'first_class', 'second_class', 'third_class']\n"
     ]
    }
   ],
   "source": [
    "print feature_names"
   ]
  },
  {
   "cell_type": "code",
   "execution_count": 88,
   "metadata": {
    "collapsed": false
   },
   "outputs": [
    {
     "name": "stdout",
     "output_type": "stream",
     "text": [
      "['29.0000' '0' '1.0' '0.0' '0.0'] 1\n"
     ]
    }
   ],
   "source": [
    "print titanic_X[0], titanic_y[0]"
   ]
  },
  {
   "cell_type": "markdown",
   "metadata": {},
   "source": [
    "## Training a decision tree classifier"
   ]
  },
  {
   "cell_type": "code",
   "execution_count": 89,
   "metadata": {
    "collapsed": true
   },
   "outputs": [],
   "source": [
    "from sklearn.cross_validation import train_test_split\n",
    "X_train, X_test, y_train, y_test = train_test_split(titanic_X, titanic_y, test_size=0.25, random_state=33)"
   ]
  },
  {
   "cell_type": "code",
   "execution_count": 106,
   "metadata": {
    "collapsed": true
   },
   "outputs": [],
   "source": [
    "from sklearn import tree\n",
    "clf = tree.DecisionTreeClassifier(criterion='entropy', max_depth=3, min_samples_leaf=5)\n",
    "clf = clf.fit(X_train, y_train)"
   ]
  },
  {
   "cell_type": "code",
   "execution_count": 107,
   "metadata": {
    "collapsed": false
   },
   "outputs": [
    {
     "data": {
      "image/png": "[encoded data removed]",
      "text/plain": [
       "<IPython.core.display.Image object>"
      ]
     },
     "execution_count": 107,
     "metadata": {},
     "output_type": "execute_result"
    }
   ],
   "source": [
    "import pydotplus, StringIO\n",
    "dot_data = StringIO.StringIO()\n",
    "tree.export_graphviz(clf, out_file=dot_data, feature_names=['age', 'sex', '1st_class', '2nd_class', '3rd_class'])\n",
    "graph = pydotplus.graph_from_dot_data(dot_data.getvalue())\n",
    "graph.write_png('titanic.png')\n",
    "from IPython.core.display import Image\n",
    "Image(filename='titanic.png')"
   ]
  },
  {
   "cell_type": "markdown",
   "metadata": {},
   "source": [
    "## Interpreting the decision tree"
   ]
  },
  {
   "cell_type": "code",
   "execution_count": 108,
   "metadata": {
    "collapsed": false
   },
   "outputs": [
    {
     "name": "stdout",
     "output_type": "stream",
     "text": [
      "Accuracy: 0.838 \n",
      "\n"
     ]
    }
   ],
   "source": [
    "from sklearn import metrics\n",
    "def measure_performance(X, y, clf, show_accuracy=True, \n",
    "                        show_classification_report=True, show_confusion_matrix=True):\n",
    "    y_pred = clf.predict(X)\n",
    "    if show_accuracy:\n",
    "        print \"Accuracy: {0:.3f}\".format(metrics.accuracy_score(y, y_pred)), \"\\n\"\n",
    "    if show_classification_report:\n",
    "        print \"Classification report:\"\n",
    "        print metrics.classification_report(y, y_pred), \"\\n\"\n",
    "    if show_confusion_matrix:\n",
    "        print \"Confusion matrix\"\n",
    "        print metrics.confusion_matrix(y, y_pred), \"\\n\"\n",
    "measure_performance(X_train, y_train, clf,\n",
    "                   show_classification_report=False, show_confusion_matrix=False)"
   ]
  },
  {
   "cell_type": "code",
   "execution_count": 109,
   "metadata": {
    "collapsed": false
   },
   "outputs": [
    {
     "name": "stdout",
     "output_type": "stream",
     "text": [
      "Accuracy: 0.838 \n",
      "\n",
      "Classification report:\n",
      "             precision    recall  f1-score   support\n",
      "\n",
      "          0       0.82      0.98      0.89       662\n",
      "          1       0.93      0.55      0.69       322\n",
      "\n",
      "avg / total       0.85      0.84      0.82       984\n",
      "\n",
      "\n",
      "Confusion matrix\n",
      "[[649  13]\n",
      " [146 176]] \n",
      "\n"
     ]
    }
   ],
   "source": [
    "measure_performance(X_train, y_train, clf)"
   ]
  },
  {
   "cell_type": "code",
   "execution_count": 113,
   "metadata": {
    "collapsed": false
   },
   "outputs": [],
   "source": [
    "# leave-one-out cross validation\n",
    "from sklearn.cross_validation import cross_val_score, LeaveOneOut\n",
    "from scipy.stats import sem\n",
    "\n",
    "def loo_cv(X_train, y_train, clf):\n",
    "    # Perform Leave-One-Out cross validation\n",
    "    # We are performaing 1313 classifications.\n",
    "    loo = LeaveOneOut(X_train[:].shape[0])\n",
    "    scores = np.zeros(X_train[:].shape[0])\n",
    "    for train_index, test_index in loo:\n",
    "        X_train_cv, X_test_cv = X_train[train_index], X_train[test_index]\n",
    "        y_train_cv, y_test_cv = y_train[train_index], y_train[test_index]\n",
    "        clf = clf.fit(X_train_cv, y_train_cv)\n",
    "        y_pred = clf.predict(X_test_cv)\n",
    "        scores[test_index] = metrics.accuracy_score(y_test_cv.astype(int), y_pred.astype(int))\n",
    "    print (\"Mean score: {0:.3f} (+/-{1:.3f})\").format(np.mean(scores), sem(scores))"
   ]
  },
  {
   "cell_type": "code",
   "execution_count": 114,
   "metadata": {
    "collapsed": false
   },
   "outputs": [
    {
     "name": "stdout",
     "output_type": "stream",
     "text": [
      "Mean score: 0.837 (+/-0.012)\n"
     ]
    }
   ],
   "source": [
    "loo_cv(X_train, y_train, clf)"
   ]
  },
  {
   "cell_type": "markdown",
   "metadata": {},
   "source": [
    "## Random Forests - randomizing decisions"
   ]
  },
  {
   "cell_type": "code",
   "execution_count": 115,
   "metadata": {
    "collapsed": false
   },
   "outputs": [
    {
     "name": "stdout",
     "output_type": "stream",
     "text": [
      "Mean score: 0.817 (+/-0.012)\n"
     ]
    }
   ],
   "source": [
    "from sklearn.ensemble import RandomForestClassifier\n",
    "clf = RandomForestClassifier(n_estimators=10, random_state=33)\n",
    "clf = clf.fit(X_train, y_train)\n",
    "loo_cv(X_train, y_train, clf)"
   ]
  },
  {
   "cell_type": "markdown",
   "metadata": {},
   "source": [
    "Results are worse with Random Forests.  This is likely due to the fact that we have few features.  Random forests \"is a very fast, simple, and popular method to improve accuarcy\" for bigger datasets with a a bigger number of features."
   ]
  },
  {
   "cell_type": "markdown",
   "metadata": {},
   "source": [
    "### Evaluating the performance"
   ]
  },
  {
   "cell_type": "code",
   "execution_count": 117,
   "metadata": {
    "collapsed": false
   },
   "outputs": [
    {
     "name": "stdout",
     "output_type": "stream",
     "text": [
      "Accuracy: 0.793 \n",
      "\n",
      "Classification report:\n",
      "             precision    recall  f1-score   support\n",
      "\n",
      "          0       0.77      0.96      0.85       202\n",
      "          1       0.88      0.54      0.67       127\n",
      "\n",
      "avg / total       0.81      0.79      0.78       329\n",
      "\n",
      "\n",
      "Confusion matrix\n",
      "[[193   9]\n",
      " [ 59  68]] \n",
      "\n"
     ]
    }
   ],
   "source": [
    "clf_dt = tree.DecisionTreeClassifier(criterion='entropy', max_depth=3, min_samples_leaf=5)\n",
    "clf_dt.fit(X_train, y_train)\n",
    "measure_performance(X_test, y_test, clf_dt)"
   ]
  },
  {
   "cell_type": "markdown",
   "metadata": {},
   "source": [
    "## Predicting House Prices with Regression"
   ]
  },
  {
   "cell_type": "code",
   "execution_count": 119,
   "metadata": {
    "collapsed": false
   },
   "outputs": [
    {
     "name": "stdout",
     "output_type": "stream",
     "text": [
      "(506, 13)\n"
     ]
    }
   ],
   "source": [
    "import numpy as np\n",
    "import matplotlib.pyplot as plt\n",
    "from sklearn.datasets import load_boston\n",
    "boston = load_boston()\n",
    "print boston.data.shape"
   ]
  },
  {
   "cell_type": "code",
   "execution_count": 121,
   "metadata": {
    "collapsed": false
   },
   "outputs": [
    {
     "name": "stdout",
     "output_type": "stream",
     "text": [
      "['CRIM' 'ZN' 'INDUS' 'CHAS' 'NOX' 'RM' 'AGE' 'DIS' 'RAD' 'TAX' 'PTRATIO'\n",
      " 'B' 'LSTAT']\n"
     ]
    }
   ],
   "source": [
    "print boston.feature_names"
   ]
  },
  {
   "cell_type": "code",
   "execution_count": 123,
   "metadata": {
    "collapsed": false
   },
   "outputs": [
    {
     "name": "stdout",
     "output_type": "stream",
     "text": [
      "50.0 5.0 22.5328063241\n"
     ]
    }
   ],
   "source": [
    "print np.max(boston.target), np.min(boston.target), np.mean(boston.target)"
   ]
  },
  {
   "cell_type": "code",
   "execution_count": 124,
   "metadata": {
    "collapsed": false
   },
   "outputs": [
    {
     "name": "stdout",
     "output_type": "stream",
     "text": [
      "Boston House Prices dataset\n",
      "\n",
      "Notes\n",
      "------\n",
      "Data Set Characteristics:  \n",
      "\n",
      "    :Number of Instances: 506 \n",
      "\n",
      "    :Number of Attributes: 13 numeric/categorical predictive\n",
      "    \n",
      "    :Median Value (attribute 14) is usually the target\n",
      "\n",
      "    :Attribute Information (in order):\n",
      "        - CRIM     per capita crime rate by town\n",
      "        - ZN       proportion of residential land zoned for lots over 25,000 sq.ft.\n",
      "        - INDUS    proportion of non-retail business acres per town\n",
      "        - CHAS     Charles River dummy variable (= 1 if tract bounds river; 0 otherwise)\n",
      "        - NOX      nitric oxides concentration (parts per 10 million)\n",
      "        - RM       average number of rooms per dwelling\n",
      "        - AGE      proportion of owner-occupied units built prior to 1940\n",
      "        - DIS      weighted distances to five Boston employment centres\n",
      "        - RAD      index of accessibility to radial highways\n",
      "        - TAX      full-value property-tax rate per $10,000\n",
      "        - PTRATIO  pupil-teacher ratio by town\n",
      "        - B        1000(Bk - 0.63)^2 where Bk is the proportion of blacks by town\n",
      "        - LSTAT    % lower status of the population\n",
      "        - MEDV     Median value of owner-occupied homes in $1000's\n",
      "\n",
      "    :Missing Attribute Values: None\n",
      "\n",
      "    :Creator: Harrison, D. and Rubinfeld, D.L.\n",
      "\n",
      "This is a copy of UCI ML housing dataset.\n",
      "http://archive.ics.uci.edu/ml/datasets/Housing\n",
      "\n",
      "\n",
      "This dataset was taken from the StatLib library which is maintained at Carnegie Mellon University.\n",
      "\n",
      "The Boston house-price data of Harrison, D. and Rubinfeld, D.L. 'Hedonic\n",
      "prices and the demand for clean air', J. Environ. Economics & Management,\n",
      "vol.5, 81-102, 1978.   Used in Belsley, Kuh & Welsch, 'Regression diagnostics\n",
      "...', Wiley, 1980.   N.B. Various transformations are used in the table on\n",
      "pages 244-261 of the latter.\n",
      "\n",
      "The Boston house-price data has been used in many machine learning papers that address regression\n",
      "problems.   \n",
      "     \n",
      "**References**\n",
      "\n",
      "   - Belsley, Kuh & Welsch, 'Regression diagnostics: Identifying Influential Data and Sources of Collinearity', Wiley, 1980. 244-261.\n",
      "   - Quinlan,R. (1993). Combining Instance-Based and Model-Based Learning. In Proceedings on the Tenth International Conference of Machine Learning, 236-243, University of Massachusetts, Amherst. Morgan Kaufmann.\n",
      "   - many more! (see http://archive.ics.uci.edu/ml/datasets/Housing)\n",
      "\n"
     ]
    }
   ],
   "source": [
    "print boston.DESCR"
   ]
  },
  {
   "cell_type": "code",
   "execution_count": 126,
   "metadata": {
    "collapsed": false
   },
   "outputs": [
    {
     "name": "stderr",
     "output_type": "stream",
     "text": [
      "/home/andrew/python-apps/DataAnalysis/local/lib/python2.7/site-packages/sklearn/preprocessing/data.py:583: DeprecationWarning: Passing 1d arrays as data is deprecated in 0.17 and will raise ValueError in 0.19. Reshape your data either using X.reshape(-1, 1) if your data has a single feature or X.reshape(1, -1) if it contains a single sample.\n",
      "  warnings.warn(DEPRECATION_MSG_1D, DeprecationWarning)\n",
      "/home/andrew/python-apps/DataAnalysis/local/lib/python2.7/site-packages/sklearn/preprocessing/data.py:646: DeprecationWarning: Passing 1d arrays as data is deprecated in 0.17 and will raise ValueError in 0.19. Reshape your data either using X.reshape(-1, 1) if your data has a single feature or X.reshape(1, -1) if it contains a single sample.\n",
      "  warnings.warn(DEPRECATION_MSG_1D, DeprecationWarning)\n",
      "/home/andrew/python-apps/DataAnalysis/local/lib/python2.7/site-packages/sklearn/preprocessing/data.py:646: DeprecationWarning: Passing 1d arrays as data is deprecated in 0.17 and will raise ValueError in 0.19. Reshape your data either using X.reshape(-1, 1) if your data has a single feature or X.reshape(1, -1) if it contains a single sample.\n",
      "  warnings.warn(DEPRECATION_MSG_1D, DeprecationWarning)\n"
     ]
    }
   ],
   "source": [
    "from sklearn.cross_validation import train_test_split\n",
    "X_train, X_test, y_train, y_test = train_test_split(boston.data, boston.target,\n",
    "                                                   test_size=0.25, random_state=33)\n",
    "from sklearn.preprocessing import StandardScaler\n",
    "scalerX = StandardScaler().fit(X_train)\n",
    "scalery = StandardScaler().fit(y_train)\n",
    "X_train = scalerX.transform(X_train)\n",
    "y_train = scalery.transform(y_train)\n",
    "X_test = scalerX.transform(X_test)\n",
    "y_test = scalery.transform(y_test)"
   ]
  },
  {
   "cell_type": "code",
   "execution_count": 127,
   "metadata": {
    "collapsed": true
   },
   "outputs": [],
   "source": [
    "from sklearn.cross_validation import *\n",
    "def train_and_evaluate(clf, X_train, y_train):\n",
    "    clf.fit(X_train, y_train)\n",
    "    print \"Coefficient of determination on training set:\", clf.score(X_train, y_train)\n",
    "    # create a k-fold cross validation iterator of k=5 folds\n",
    "    cv = KFold(X_train.shape[0], 5, shuffle=True, random_state=33)\n",
    "    scores = cross_val_score(clf, X_train, y_train, cv=cv)\n",
    "    print \"Average coefficient of determination using 5-fold crossvalidation:\", np.mean(scores)"
   ]
  },
  {
   "cell_type": "markdown",
   "metadata": {},
   "source": [
    "### First try - a linear model"
   ]
  },
  {
   "cell_type": "code",
   "execution_count": 128,
   "metadata": {
    "collapsed": false
   },
   "outputs": [
    {
     "name": "stdout",
     "output_type": "stream",
     "text": [
      "Coefficient of determination on training set: 0.743617732983\n",
      "Average coefficient of determination using 5-fold crossvalidation: 0.710809853468\n"
     ]
    }
   ],
   "source": [
    "from sklearn import linear_model\n",
    "clf_sgd = linear_model.SGDRegressor(loss='squared_loss', penalty=None, random_state=42)\n",
    "train_and_evaluate(clf_sgd, X_train, y_train)"
   ]
  },
  {
   "cell_type": "code",
   "execution_count": 129,
   "metadata": {
    "collapsed": false
   },
   "outputs": [
    {
     "name": "stdout",
     "output_type": "stream",
     "text": [
      "[-0.08527595  0.06706144 -0.05032898  0.10874804 -0.07755151  0.38961893\n",
      " -0.02485839 -0.20990016  0.08491659 -0.05495108 -0.19854006  0.06126093\n",
      " -0.37817963]\n"
     ]
    }
   ],
   "source": [
    "print clf_sgd.coef_"
   ]
  },
  {
   "cell_type": "code",
   "execution_count": 130,
   "metadata": {
    "collapsed": false
   },
   "outputs": [
    {
     "name": "stdout",
     "output_type": "stream",
     "text": [
      "Coefficient of determination on training set: 0.743616743208\n",
      "Average coefficient of determination using 5-fold crossvalidation: 0.71081206667\n"
     ]
    }
   ],
   "source": [
    "# l2 penalty - to avoid overfitting\n",
    "clf_sgd1 = linear_model.SGDRegressor(loss='squared_loss', penalty='l2', random_state=42)\n",
    "train_and_evaluate(clf_sgd1, X_train, y_train)"
   ]
  },
  {
   "cell_type": "markdown",
   "metadata": {},
   "source": [
    "### Second try - Support Vector Machines for regression"
   ]
  },
  {
   "cell_type": "code",
   "execution_count": 131,
   "metadata": {
    "collapsed": false
   },
   "outputs": [
    {
     "name": "stdout",
     "output_type": "stream",
     "text": [
      "Coefficient of determination on training set: 0.71886923342\n",
      "Average coefficient of determination using 5-fold crossvalidation: 0.707838419194\n"
     ]
    }
   ],
   "source": [
    "from sklearn import svm\n",
    "clf_svr = svm.SVR(kernel='linear')\n",
    "train_and_evaluate(clf_svr, X_train, y_train)"
   ]
  },
  {
   "cell_type": "code",
   "execution_count": 132,
   "metadata": {
    "collapsed": false
   },
   "outputs": [
    {
     "name": "stdout",
     "output_type": "stream",
     "text": [
      "Coefficient of determination on training set: 0.904109273301\n",
      "Average coefficient of determination using 5-fold crossvalidation: 0.779288545488\n"
     ]
    }
   ],
   "source": [
    "clf_svr_poly = svm.SVR(kernel='poly')\n",
    "train_and_evaluate(clf_svr_poly, X_train, y_train)"
   ]
  },
  {
   "cell_type": "code",
   "execution_count": 133,
   "metadata": {
    "collapsed": false
   },
   "outputs": [
    {
     "name": "stdout",
     "output_type": "stream",
     "text": [
      "Coefficient of determination on training set: 0.900132065979\n",
      "Average coefficient of determination using 5-fold crossvalidation: 0.833662221567\n"
     ]
    }
   ],
   "source": [
    "clf_svr_rbf = svm.SVR(kernel='rbf')\n",
    "train_and_evaluate(clf_svr_rbf, X_train, y_train)"
   ]
  },
  {
   "cell_type": "markdown",
   "metadata": {},
   "source": [
    "### Third try - Random Forests revisited"
   ]
  },
  {
   "cell_type": "code",
   "execution_count": 135,
   "metadata": {
    "collapsed": false
   },
   "outputs": [
    {
     "name": "stdout",
     "output_type": "stream",
     "text": [
      "Coefficient of determination on training set: 1.0\n",
      "Average coefficient of determination using 5-fold crossvalidation: 0.861758978344\n"
     ]
    }
   ],
   "source": [
    "from sklearn import ensemble\n",
    "clf_et = ensemble.ExtraTreesRegressor(n_estimators=10, random_state=42)\n",
    "#  compute_importances=True is no longer required\n",
    "train_and_evaluate(clf_et, X_train, y_train)"
   ]
  },
  {
   "cell_type": "code",
   "execution_count": 136,
   "metadata": {
    "collapsed": false
   },
   "outputs": [
    {
     "name": "stdout",
     "output_type": "stream",
     "text": [
      "[['0.00504385320276' 'AGE']\n",
      " ['0.0151425137151' 'B']\n",
      " ['0.0170525784005' 'CHAS']\n",
      " ['0.0189418210858' 'CRIM']\n",
      " ['0.0236025617776' 'DIS']\n",
      " ['0.0257330490046' 'INDUS']\n",
      " ['0.0318741622351' 'LSTAT']\n",
      " ['0.0344056449393' 'NOX']\n",
      " ['0.0397131333452' 'PTRATIO']\n",
      " ['0.0466185213973' 'RAD']\n",
      " ['0.0995118014928' 'RM']\n",
      " ['0.284215227964' 'TAX']\n",
      " ['0.35814513144' 'ZN']]\n"
     ]
    }
   ],
   "source": [
    "print sort(zip(clf_et.feature_importances_, boston.feature_names), axis=0)"
   ]
  },
  {
   "cell_type": "markdown",
   "metadata": {},
   "source": [
    "## Evaluation"
   ]
  },
  {
   "cell_type": "code",
   "execution_count": 147,
   "metadata": {
    "collapsed": false
   },
   "outputs": [
    {
     "name": "stdout",
     "output_type": "stream",
     "text": [
      "Coefficient of determination:0.802 \n",
      "\n"
     ]
    }
   ],
   "source": [
    "from sklearn import metrics\n",
    "def measure_performance(X,y,clf, show_accuracy=True, show_classification_report=True, show_confusion_matrix=True, show_r2_score=False):\n",
    "    y_pred=clf.predict(X)   \n",
    "    if show_accuracy:\n",
    "        print \"Accuracy:{0:.3f}\".format(metrics.accuracy_score(y,y_pred)),\"\\n\"\n",
    "\n",
    "    if show_classification_report:\n",
    "        print \"Classification report\"\n",
    "        print metrics.classification_report(y,y_pred),\"\\n\"\n",
    "        \n",
    "    if show_confusion_matrix:\n",
    "        print \"Confusion matrix\"\n",
    "        print metrics.confusion_matrix(y,y_pred),\"\\n\"\n",
    "        \n",
    "    if show_r2_score:\n",
    "        print \"Coefficient of determination:{0:.3f}\".format(metrics.r2_score(y,y_pred)),\"\\n\"\n",
    "\n",
    "        \n",
    "measure_performance(X_test,y_test,clf_et, show_accuracy=False, show_classification_report=False,show_confusion_matrix=False, show_r2_score=True)\n",
    "\n"
   ]
  },
  {
   "cell_type": "code",
   "execution_count": null,
   "metadata": {
    "collapsed": true
   },
   "outputs": [],
   "source": []
  }
 ],
 "metadata": {
  "kernelspec": {
   "display_name": "Python 2",
   "language": "python",
   "name": "python2"
  },
  "language_info": {
   "codemirror_mode": {
    "name": "ipython",
    "version": 2
   },
   "file_extension": ".py",
   "mimetype": "text/x-python",
   "name": "python",
   "nbconvert_exporter": "python",
   "pygments_lexer": "ipython2",
   "version": "2.7.12"
  }
 },
 "nbformat": 4,
 "nbformat_minor": 1
}
